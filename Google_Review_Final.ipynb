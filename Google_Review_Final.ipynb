{
  "nbformat": 4,
  "nbformat_minor": 0,
  "metadata": {
    "colab": {
      "provenance": []
    },
    "kernelspec": {
      "name": "python3",
      "display_name": "Python 3"
    },
    "language_info": {
      "name": "python"
    }
  },
  "cells": [
    {
      "cell_type": "markdown",
      "source": [
        "First, we mount the Google Drive to access the data files"
      ],
      "metadata": {
        "id": "ass_7Z4LgFXg"
      }
    },
    {
      "cell_type": "code",
      "execution_count": null,
      "metadata": {
        "colab": {
          "base_uri": "https://localhost:8080/"
        },
        "id": "BPxg4Ct2bxoq",
        "outputId": "7149c300-9f07-480f-d08f-6d90576a67cf"
      },
      "outputs": [
        {
          "output_type": "stream",
          "name": "stdout",
          "text": [
            "Drive already mounted at /content/gdrive; to attempt to forcibly remount, call drive.mount(\"/content/gdrive\", force_remount=True).\n"
          ]
        }
      ],
      "source": [
        "from google.colab import drive\n",
        "drive.mount('/content/gdrive')"
      ]
    },
    {
      "cell_type": "markdown",
      "source": [
        "reading the data files and store them in Variables\n"
      ],
      "metadata": {
        "id": "BjNh_I6qtkzU"
      }
    },
    {
      "cell_type": "code",
      "source": [
        "import pandas as pd\n",
        "import json\n",
        "reviews = open('/content/gdrive/MyDrive/google_reviews/reviews.clean.json')\n",
        "users = open('/content/gdrive/MyDrive/google_reviews/places.clean.json')\n",
        "places = open('/content/gdrive/MyDrive/google_reviews/users.clean.json')\n",
        "reviews = reviews.readlines()\n",
        "users = users.readlines()\n",
        "places = places.readlines()"
      ],
      "metadata": {
        "id": "SbgJZhJ8b1x0"
      },
      "execution_count": null,
      "outputs": []
    },
    {
      "cell_type": "markdown",
      "source": [
        "Converting the data from JSON format to pandas dataframes\n"
      ],
      "metadata": {
        "id": "82uJ0TEuuY6P"
      }
    },
    {
      "cell_type": "code",
      "source": [
        "final_rev = {}\n",
        "for i in range (0,100000):\n",
        "  d = eval(reviews[i])\n",
        "  final_rev[i] = d\n",
        "\n",
        "reviews=pd.DataFrame.from_dict(final_rev, orient = 'index')"
      ],
      "metadata": {
        "id": "ugSYRIIFb7s8"
      },
      "execution_count": null,
      "outputs": []
    },
    {
      "cell_type": "code",
      "source": [
        "final_rev = {}\n",
        "for i in range (0,100000):\n",
        "  d = eval(users[i])\n",
        "  final_rev[i] = d\n",
        "\n",
        "users=pd.DataFrame.from_dict(final_rev, orient = 'index')"
      ],
      "metadata": {
        "id": "BV77gltkcE8p"
      },
      "execution_count": null,
      "outputs": []
    },
    {
      "cell_type": "code",
      "source": [
        "final_rev = {}\n",
        "for i in range (0,100000):\n",
        "  d = eval(places[i])\n",
        "  final_rev[i] = d\n",
        "\n",
        "places=pd.DataFrame.from_dict(final_rev, orient = 'index')"
      ],
      "metadata": {
        "id": "hkKD8ctfcLv9"
      },
      "execution_count": null,
      "outputs": []
    },
    {
      "cell_type": "code",
      "source": [
        "reviews.head()"
      ],
      "metadata": {
        "id": "i3HKYcM_gBN3",
        "colab": {
          "base_uri": "https://localhost:8080/",
          "height": 319
        },
        "outputId": "38f13fcc-dc79-44f8-b099-e33e34a32e78"
      },
      "execution_count": null,
      "outputs": [
        {
          "output_type": "execute_result",
          "data": {
            "text/plain": [
              "   rating  reviewerName                                         reviewText  \\\n",
              "0     3.0        an lam                                  Chất lượng tạm ổn   \n",
              "1     5.0  HALİL TURGUT                              Wc si temiz duzenli..   \n",
              "2     5.0         森田さとこ                   何回も私は予定に休みがセルバに行ったので覚えて見て、分かります❗   \n",
              "3     5.0         森田さとこ  今度は予定に休みが登米市に行きたい❗☀😅🌌 楽しいに日帰りに登米の見学の観光(*^)(*^-...   \n",
              "4     4.0         森田さとこ                            気仙沼警察署に移転中に絆 👮🐎☺🙋🚓頑張ろう❗   \n",
              "\n",
              "                                      categories           gPlusPlaceId  \\\n",
              "0                              [Giải Trí - Café]  108103314380004200232   \n",
              "1                              [Turkish Cuisine]  102194128241608748649   \n",
              "2  [Fishing, Pond Fish Supplier, Seafood Market]  101409858828175402384   \n",
              "3                                       [Museum]  101477177500158511502   \n",
              "4                                       [Police]  106994170641063333085   \n",
              "\n",
              "   unixReviewTime    reviewTime            gPlusUserId  \n",
              "0    1.372687e+09   Jul 1, 2013  100000010817154263736  \n",
              "1    1.342871e+09  Jul 21, 2012  100000013500285534661  \n",
              "2    1.390654e+09  Jan 25, 2014  100000021336848867366  \n",
              "3    1.389188e+09   Jan 8, 2014  100000021336848867366  \n",
              "4    1.390486e+09  Jan 23, 2014  100000021336848867366  "
            ],
            "text/html": [
              "\n",
              "  <div id=\"df-b291282e-bcf9-4f44-abdc-bec44f96dc01\">\n",
              "    <div class=\"colab-df-container\">\n",
              "      <div>\n",
              "<style scoped>\n",
              "    .dataframe tbody tr th:only-of-type {\n",
              "        vertical-align: middle;\n",
              "    }\n",
              "\n",
              "    .dataframe tbody tr th {\n",
              "        vertical-align: top;\n",
              "    }\n",
              "\n",
              "    .dataframe thead th {\n",
              "        text-align: right;\n",
              "    }\n",
              "</style>\n",
              "<table border=\"1\" class=\"dataframe\">\n",
              "  <thead>\n",
              "    <tr style=\"text-align: right;\">\n",
              "      <th></th>\n",
              "      <th>rating</th>\n",
              "      <th>reviewerName</th>\n",
              "      <th>reviewText</th>\n",
              "      <th>categories</th>\n",
              "      <th>gPlusPlaceId</th>\n",
              "      <th>unixReviewTime</th>\n",
              "      <th>reviewTime</th>\n",
              "      <th>gPlusUserId</th>\n",
              "    </tr>\n",
              "  </thead>\n",
              "  <tbody>\n",
              "    <tr>\n",
              "      <th>0</th>\n",
              "      <td>3.0</td>\n",
              "      <td>an lam</td>\n",
              "      <td>Chất lượng tạm ổn</td>\n",
              "      <td>[Giải Trí - Café]</td>\n",
              "      <td>108103314380004200232</td>\n",
              "      <td>1.372687e+09</td>\n",
              "      <td>Jul 1, 2013</td>\n",
              "      <td>100000010817154263736</td>\n",
              "    </tr>\n",
              "    <tr>\n",
              "      <th>1</th>\n",
              "      <td>5.0</td>\n",
              "      <td>HALİL TURGUT</td>\n",
              "      <td>Wc si temiz duzenli..</td>\n",
              "      <td>[Turkish Cuisine]</td>\n",
              "      <td>102194128241608748649</td>\n",
              "      <td>1.342871e+09</td>\n",
              "      <td>Jul 21, 2012</td>\n",
              "      <td>100000013500285534661</td>\n",
              "    </tr>\n",
              "    <tr>\n",
              "      <th>2</th>\n",
              "      <td>5.0</td>\n",
              "      <td>森田さとこ</td>\n",
              "      <td>何回も私は予定に休みがセルバに行ったので覚えて見て、分かります❗</td>\n",
              "      <td>[Fishing, Pond Fish Supplier, Seafood Market]</td>\n",
              "      <td>101409858828175402384</td>\n",
              "      <td>1.390654e+09</td>\n",
              "      <td>Jan 25, 2014</td>\n",
              "      <td>100000021336848867366</td>\n",
              "    </tr>\n",
              "    <tr>\n",
              "      <th>3</th>\n",
              "      <td>5.0</td>\n",
              "      <td>森田さとこ</td>\n",
              "      <td>今度は予定に休みが登米市に行きたい❗☀😅🌌 楽しいに日帰りに登米の見学の観光(*^)(*^-...</td>\n",
              "      <td>[Museum]</td>\n",
              "      <td>101477177500158511502</td>\n",
              "      <td>1.389188e+09</td>\n",
              "      <td>Jan 8, 2014</td>\n",
              "      <td>100000021336848867366</td>\n",
              "    </tr>\n",
              "    <tr>\n",
              "      <th>4</th>\n",
              "      <td>4.0</td>\n",
              "      <td>森田さとこ</td>\n",
              "      <td>気仙沼警察署に移転中に絆 👮🐎☺🙋🚓頑張ろう❗</td>\n",
              "      <td>[Police]</td>\n",
              "      <td>106994170641063333085</td>\n",
              "      <td>1.390486e+09</td>\n",
              "      <td>Jan 23, 2014</td>\n",
              "      <td>100000021336848867366</td>\n",
              "    </tr>\n",
              "  </tbody>\n",
              "</table>\n",
              "</div>\n",
              "      <button class=\"colab-df-convert\" onclick=\"convertToInteractive('df-b291282e-bcf9-4f44-abdc-bec44f96dc01')\"\n",
              "              title=\"Convert this dataframe to an interactive table.\"\n",
              "              style=\"display:none;\">\n",
              "        \n",
              "  <svg xmlns=\"http://www.w3.org/2000/svg\" height=\"24px\"viewBox=\"0 0 24 24\"\n",
              "       width=\"24px\">\n",
              "    <path d=\"M0 0h24v24H0V0z\" fill=\"none\"/>\n",
              "    <path d=\"M18.56 5.44l.94 2.06.94-2.06 2.06-.94-2.06-.94-.94-2.06-.94 2.06-2.06.94zm-11 1L8.5 8.5l.94-2.06 2.06-.94-2.06-.94L8.5 2.5l-.94 2.06-2.06.94zm10 10l.94 2.06.94-2.06 2.06-.94-2.06-.94-.94-2.06-.94 2.06-2.06.94z\"/><path d=\"M17.41 7.96l-1.37-1.37c-.4-.4-.92-.59-1.43-.59-.52 0-1.04.2-1.43.59L10.3 9.45l-7.72 7.72c-.78.78-.78 2.05 0 2.83L4 21.41c.39.39.9.59 1.41.59.51 0 1.02-.2 1.41-.59l7.78-7.78 2.81-2.81c.8-.78.8-2.07 0-2.86zM5.41 20L4 18.59l7.72-7.72 1.47 1.35L5.41 20z\"/>\n",
              "  </svg>\n",
              "      </button>\n",
              "      \n",
              "  <style>\n",
              "    .colab-df-container {\n",
              "      display:flex;\n",
              "      flex-wrap:wrap;\n",
              "      gap: 12px;\n",
              "    }\n",
              "\n",
              "    .colab-df-convert {\n",
              "      background-color: #E8F0FE;\n",
              "      border: none;\n",
              "      border-radius: 50%;\n",
              "      cursor: pointer;\n",
              "      display: none;\n",
              "      fill: #1967D2;\n",
              "      height: 32px;\n",
              "      padding: 0 0 0 0;\n",
              "      width: 32px;\n",
              "    }\n",
              "\n",
              "    .colab-df-convert:hover {\n",
              "      background-color: #E2EBFA;\n",
              "      box-shadow: 0px 1px 2px rgba(60, 64, 67, 0.3), 0px 1px 3px 1px rgba(60, 64, 67, 0.15);\n",
              "      fill: #174EA6;\n",
              "    }\n",
              "\n",
              "    [theme=dark] .colab-df-convert {\n",
              "      background-color: #3B4455;\n",
              "      fill: #D2E3FC;\n",
              "    }\n",
              "\n",
              "    [theme=dark] .colab-df-convert:hover {\n",
              "      background-color: #434B5C;\n",
              "      box-shadow: 0px 1px 3px 1px rgba(0, 0, 0, 0.15);\n",
              "      filter: drop-shadow(0px 1px 2px rgba(0, 0, 0, 0.3));\n",
              "      fill: #FFFFFF;\n",
              "    }\n",
              "  </style>\n",
              "\n",
              "      <script>\n",
              "        const buttonEl =\n",
              "          document.querySelector('#df-b291282e-bcf9-4f44-abdc-bec44f96dc01 button.colab-df-convert');\n",
              "        buttonEl.style.display =\n",
              "          google.colab.kernel.accessAllowed ? 'block' : 'none';\n",
              "\n",
              "        async function convertToInteractive(key) {\n",
              "          const element = document.querySelector('#df-b291282e-bcf9-4f44-abdc-bec44f96dc01');\n",
              "          const dataTable =\n",
              "            await google.colab.kernel.invokeFunction('convertToInteractive',\n",
              "                                                     [key], {});\n",
              "          if (!dataTable) return;\n",
              "\n",
              "          const docLinkHtml = 'Like what you see? Visit the ' +\n",
              "            '<a target=\"_blank\" href=https://colab.research.google.com/notebooks/data_table.ipynb>data table notebook</a>'\n",
              "            + ' to learn more about interactive tables.';\n",
              "          element.innerHTML = '';\n",
              "          dataTable['output_type'] = 'display_data';\n",
              "          await google.colab.output.renderOutput(dataTable, element);\n",
              "          const docLink = document.createElement('div');\n",
              "          docLink.innerHTML = docLinkHtml;\n",
              "          element.appendChild(docLink);\n",
              "        }\n",
              "      </script>\n",
              "    </div>\n",
              "  </div>\n",
              "  "
            ]
          },
          "metadata": {},
          "execution_count": 20
        }
      ]
    },
    {
      "cell_type": "markdown",
      "source": [
        "Cleaning the review text data"
      ],
      "metadata": {
        "id": "XZLio3mXudyM"
      }
    },
    {
      "cell_type": "code",
      "source": [
        "import re\n",
        "import string\n",
        "import nltk\n",
        "from nltk.corpus import stopwords\n",
        "nltk.download('stopwords')\n",
        "nltk.download('punkt')\n",
        "\n",
        "def clean_text(text):\n",
        "    if text is None:\n",
        "        return \"\"\n",
        "    \n",
        "    # Convert all text to lowercase\n",
        "    text = text.lower()\n",
        "\n",
        "    # Remove numbers\n",
        "    text = re.sub('\\d', '', text)\n",
        "\n",
        "    # Remove punctuation\n",
        "    text = text.translate(str.maketrans('', '', string.punctuation))\n",
        "\n",
        "    # Remove whitespace\n",
        "    text = text.strip()\n",
        "\n",
        "    # Remove stopwords\n",
        "    stop_words = set(stopwords.words('english'))\n",
        "    words = nltk.word_tokenize(text)\n",
        "    words = [word for word in words if word not in stop_words]\n",
        "    text = ' '.join(words)\n",
        "\n",
        "    return text\n",
        "\n",
        "reviews.dropna(subset=['reviewText'], inplace=True)\n",
        "reviews['reviewText'] = reviews['reviewText'].apply(clean_text)"
      ],
      "metadata": {
        "colab": {
          "base_uri": "https://localhost:8080/"
        },
        "id": "JoluECczcMyu",
        "outputId": "17dcd7ab-d7aa-4ee8-cb77-7e83df346f92"
      },
      "execution_count": null,
      "outputs": [
        {
          "output_type": "stream",
          "name": "stderr",
          "text": [
            "[nltk_data] Downloading package stopwords to /root/nltk_data...\n",
            "[nltk_data]   Package stopwords is already up-to-date!\n",
            "[nltk_data] Downloading package punkt to /root/nltk_data...\n",
            "[nltk_data]   Package punkt is already up-to-date!\n"
          ]
        }
      ]
    },
    {
      "cell_type": "markdown",
      "source": [
        "Ploting a histogram of the ratings distribution"
      ],
      "metadata": {
        "id": "yyUGiny1uziS"
      }
    },
    {
      "cell_type": "code",
      "source": [
        "import matplotlib.pyplot as plt\n",
        "\n",
        "# Plot histogram of ratings\n",
        "plt.hist(reviews['rating'], bins=5, edgecolor='black')\n",
        "\n",
        "# Set labels and title\n",
        "plt.xlabel('Rating')\n",
        "plt.ylabel('Count')\n",
        "plt.title('Distribution of Ratings')\n",
        "\n",
        "# Show plot\n",
        "plt.show()"
      ],
      "metadata": {
        "colab": {
          "base_uri": "https://localhost:8080/",
          "height": 472
        },
        "id": "eoYeAX2hcaY7",
        "outputId": "20043088-ef26-485a-dec2-4f8a32cf7560"
      },
      "execution_count": null,
      "outputs": [
        {
          "output_type": "display_data",
          "data": {
            "text/plain": [
              "<Figure size 640x480 with 1 Axes>"
            ],
            "image/png": "[encoded data removed]"
          },
          "metadata": {}
        }
      ]
    },
    {
      "cell_type": "code",
      "source": [
        "reviews = pd.DataFrame(reviews)\n",
        "users = pd.DataFrame(users)\n",
        "places = pd.DataFrame(places)"
      ],
      "metadata": {
        "id": "XEqbHaSZcfLD"
      },
      "execution_count": null,
      "outputs": []
    },
    {
      "cell_type": "markdown",
      "source": [
        "We merge and do cleaning"
      ],
      "metadata": {
        "id": "rfFleP9gvO0n"
      }
    },
    {
      "cell_type": "code",
      "source": [
        "merged_df = pd.merge(reviews, users, on='gPlusPlaceId', how='inner')\n",
        "merged_df = pd.merge(merged_df, places, on='gPlusUserId', how='inner')\n",
        "\n",
        "# Select relevant columns\n",
        "merged_df = merged_df[['name', 'price', 'address', 'hours', 'phone', 'closed', 'gPlusPlaceId', 'gps', 'userName', 'jobs', 'currentPlace', 'previousPlaces', 'education', 'gPlusUserId', 'rating', 'reviewerName', 'reviewText', 'categories', 'unixReviewTime', 'reviewTime']]\n"
      ],
      "metadata": {
        "id": "vBYEW2VUciWW"
      },
      "execution_count": null,
      "outputs": []
    },
    {
      "cell_type": "code",
      "source": [
        "!pip install scikit-surprise"
      ],
      "metadata": {
        "colab": {
          "base_uri": "https://localhost:8080/"
        },
        "id": "bjzdnmnhcmY7",
        "outputId": "56a27ce3-6c1a-4fc4-d50b-7dc3b74ea7e4"
      },
      "execution_count": null,
      "outputs": [
        {
          "output_type": "stream",
          "name": "stdout",
          "text": [
            "Looking in indexes: https://pypi.org/simple, https://us-python.pkg.dev/colab-wheels/public/simple/\n",
            "Requirement already satisfied: scikit-surprise in /usr/local/lib/python3.10/dist-packages (1.1.3)\n",
            "Requirement already satisfied: joblib>=1.0.0 in /usr/local/lib/python3.10/dist-packages (from scikit-surprise) (1.2.0)\n",
            "Requirement already satisfied: numpy>=1.17.3 in /usr/local/lib/python3.10/dist-packages (from scikit-surprise) (1.22.4)\n",
            "Requirement already satisfied: scipy>=1.3.2 in /usr/local/lib/python3.10/dist-packages (from scikit-surprise) (1.10.1)\n"
          ]
        }
      ]
    },
    {
      "cell_type": "markdown",
      "source": [
        "# Building and analyzing recommender system"
      ],
      "metadata": {
        "id": "9tSbxK2AwR4y"
      }
    },
    {
      "cell_type": "code",
      "source": [
        "from surprise import Dataset, Reader, KNNWithMeans, KNNBasic\n",
        "from surprise.model_selection import train_test_split\n",
        "from surprise import accuracy\n",
        "import pandas as pd\n",
        "import numpy as np"
      ],
      "metadata": {
        "id": "Oy3rqFKScqPz"
      },
      "execution_count": null,
      "outputs": []
    },
    {
      "cell_type": "code",
      "source": [
        "\n",
        "# Define the rating scale\n",
        "reader = Reader(rating_scale=(1, 5))\n",
        "\n",
        "# Load the merged dataframe into a surprise dataset\n",
        "data = Dataset.load_from_df(merged_df[['gPlusUserId', 'gPlusPlaceId', 'rating']], reader)\n",
        "\n",
        "# Split the dataset into training and testing sets\n",
        "trainset, testset = train_test_split(data, test_size=0.2)\n",
        "\n",
        "# Train a collaborative filtering model using KNN\n",
        "sim_options = {'name': 'cosine', 'user_based': False}\n",
        "model = KNNBasic(sim_options=sim_options)\n",
        "model.fit(trainset)\n",
        "\n",
        "# Function to get top n recommendations for a user\n",
        "def get_top_n_recommendations(user_id, n=10):\n",
        "    # Get a list of all place ids\n",
        "    place_ids = merged_df['gPlusPlaceId'].unique()\n",
        "\n",
        "    # Create a dataframe with all place ids and the user id\n",
        "    df = pd.DataFrame({'gPlusUserId': [user_id] * len(place_ids),\n",
        "                       'gPlusPlaceId': place_ids})\n",
        "\n",
        "    # Predict ratings for all places for the user\n",
        "    df['rating'] = df.apply(lambda x: model.predict(x['gPlusUserId'], x['gPlusPlaceId']).est, axis=1)\n",
        "\n",
        "    # Merge with the places dataframe to get additional information\n",
        "    df = pd.merge(df, merged_df[['name', 'address', 'hours', 'phone', 'gPlusPlaceId']], on='gPlusPlaceId')\n",
        "\n",
        "    # Sort the places by predicted rating and get the top n\n",
        "    top_n = df.sort_values('rating', ascending=False)[:n]\n",
        "\n",
        "    return top_n[['name', 'address', 'phone', 'gPlusPlaceId']].reset_index()"
      ],
      "metadata": {
        "colab": {
          "base_uri": "https://localhost:8080/"
        },
        "id": "zOHxyZ0eczlR",
        "outputId": "2e8d9acc-1b20-4529-8262-c9e4681089ec"
      },
      "execution_count": null,
      "outputs": [
        {
          "output_type": "stream",
          "name": "stdout",
          "text": [
            "Computing the cosine similarity matrix...\n",
            "Done computing similarity matrix.\n"
          ]
        }
      ]
    },
    {
      "cell_type": "markdown",
      "source": [
        "Testing Recommender System"
      ],
      "metadata": {
        "id": "-DiSd83Lwrd2"
      }
    },
    {
      "cell_type": "code",
      "source": [
        "# Test the recommendation system for user with id '100000021336848867366'\n",
        "user_id = '100000021336848867366'\n",
        "recommendations = get_top_n_recommendations(user_id)\n",
        "print(f\"Top 10 recommended places for user {user_id}:\")\n",
        "recommendations.head(10)"
      ],
      "metadata": {
        "colab": {
          "base_uri": "https://localhost:8080/",
          "height": 380
        },
        "id": "pV3nSvcEc5HE",
        "outputId": "36228e93-e35a-475c-c570-8a4664b4c6dd"
      },
      "execution_count": null,
      "outputs": [
        {
          "output_type": "stream",
          "name": "stdout",
          "text": [
            "Top 10 recommended places for user 100000021336848867366:\n"
          ]
        },
        {
          "output_type": "execute_result",
          "data": {
            "text/plain": [
              "   index                         name  \\\n",
              "0      0                石ノ森章太郎ふるさと記念館   \n",
              "1   1424  Tunkelen Cariló Apart Hotel   \n",
              "2   1438         Ouahnich Jean-Claude   \n",
              "3   1437       Garage P A Keller Sàrl   \n",
              "4   1436     Arashiyama bamboo forest   \n",
              "5   1435                     富玉屋讚岐烏龍麵   \n",
              "6   1434               AMIGO米格墨西哥飲食文化   \n",
              "7   1433                      和幸沖繩居酒屋   \n",
              "8   1432                        双管四神湯   \n",
              "9   1431             Simply Organized   \n",
              "\n",
              "                                             address           phone  \\\n",
              "0  [Machi-132 Nakadacho Ishinomori, Tome, Miyagi ...    0220-35-1099   \n",
              "1  [Avutarda, B7169AJT Carilo, Buenos Aires, Arge...   02254 57-2960   \n",
              "2  [113 Avenue Aristide Briand, 33700 Merignac, F...  05 56 98 07 97   \n",
              "3  [Chemin du Vallon 18, 1030 Bussigny-Lausanne, ...   021 706 01 50   \n",
              "4                                            [Japan]    075-414-4313   \n",
              "5  [No. 14, Lane 83, Section 1, Dà'ān Rd, Daan Di...    02 2778 5255   \n",
              "6  [No. 28號, Lane 280, Guāngfù South Rd, Daan Dis...    02 2771 1188   \n",
              "7  [No. 84號, Lane 119, Línsēn North Rd, Zhongshan...    02 2568 2736   \n",
              "8               [116, Taiwan, 台北市文山區景美街115號附近(景美夜市)]            None   \n",
              "9                                      [Cumming, GA]  (404) 825-2105   \n",
              "\n",
              "            gPlusPlaceId  \n",
              "0  111367239248458923884  \n",
              "1  106821004465108004628  \n",
              "2  113588849179886506893  \n",
              "3  111162675680742091523  \n",
              "4  113326392733924462872  \n",
              "5  110777948172277061022  \n",
              "6  104317260272950324277  \n",
              "7  104308534682533802238  \n",
              "8  105859185404410513653  \n",
              "9  113884629171124269918  "
            ],
            "text/html": [
              "\n",
              "  <div id=\"df-0437a0a6-0661-4414-8669-f4c40e10b62e\">\n",
              "    <div class=\"colab-df-container\">\n",
              "      <div>\n",
              "<style scoped>\n",
              "    .dataframe tbody tr th:only-of-type {\n",
              "        vertical-align: middle;\n",
              "    }\n",
              "\n",
              "    .dataframe tbody tr th {\n",
              "        vertical-align: top;\n",
              "    }\n",
              "\n",
              "    .dataframe thead th {\n",
              "        text-align: right;\n",
              "    }\n",
              "</style>\n",
              "<table border=\"1\" class=\"dataframe\">\n",
              "  <thead>\n",
              "    <tr style=\"text-align: right;\">\n",
              "      <th></th>\n",
              "      <th>index</th>\n",
              "      <th>name</th>\n",
              "      <th>address</th>\n",
              "      <th>phone</th>\n",
              "      <th>gPlusPlaceId</th>\n",
              "    </tr>\n",
              "  </thead>\n",
              "  <tbody>\n",
              "    <tr>\n",
              "      <th>0</th>\n",
              "      <td>0</td>\n",
              "      <td>石ノ森章太郎ふるさと記念館</td>\n",
              "      <td>[Machi-132 Nakadacho Ishinomori, Tome, Miyagi ...</td>\n",
              "      <td>0220-35-1099</td>\n",
              "      <td>111367239248458923884</td>\n",
              "    </tr>\n",
              "    <tr>\n",
              "      <th>1</th>\n",
              "      <td>1424</td>\n",
              "      <td>Tunkelen Cariló Apart Hotel</td>\n",
              "      <td>[Avutarda, B7169AJT Carilo, Buenos Aires, Arge...</td>\n",
              "      <td>02254 57-2960</td>\n",
              "      <td>106821004465108004628</td>\n",
              "    </tr>\n",
              "    <tr>\n",
              "      <th>2</th>\n",
              "      <td>1438</td>\n",
              "      <td>Ouahnich Jean-Claude</td>\n",
              "      <td>[113 Avenue Aristide Briand, 33700 Merignac, F...</td>\n",
              "      <td>05 56 98 07 97</td>\n",
              "      <td>113588849179886506893</td>\n",
              "    </tr>\n",
              "    <tr>\n",
              "      <th>3</th>\n",
              "      <td>1437</td>\n",
              "      <td>Garage P A Keller Sàrl</td>\n",
              "      <td>[Chemin du Vallon 18, 1030 Bussigny-Lausanne, ...</td>\n",
              "      <td>021 706 01 50</td>\n",
              "      <td>111162675680742091523</td>\n",
              "    </tr>\n",
              "    <tr>\n",
              "      <th>4</th>\n",
              "      <td>1436</td>\n",
              "      <td>Arashiyama bamboo forest</td>\n",
              "      <td>[Japan]</td>\n",
              "      <td>075-414-4313</td>\n",
              "      <td>113326392733924462872</td>\n",
              "    </tr>\n",
              "    <tr>\n",
              "      <th>5</th>\n",
              "      <td>1435</td>\n",
              "      <td>富玉屋讚岐烏龍麵</td>\n",
              "      <td>[No. 14, Lane 83, Section 1, Dà'ān Rd, Daan Di...</td>\n",
              "      <td>02 2778 5255</td>\n",
              "      <td>110777948172277061022</td>\n",
              "    </tr>\n",
              "    <tr>\n",
              "      <th>6</th>\n",
              "      <td>1434</td>\n",
              "      <td>AMIGO米格墨西哥飲食文化</td>\n",
              "      <td>[No. 28號, Lane 280, Guāngfù South Rd, Daan Dis...</td>\n",
              "      <td>02 2771 1188</td>\n",
              "      <td>104317260272950324277</td>\n",
              "    </tr>\n",
              "    <tr>\n",
              "      <th>7</th>\n",
              "      <td>1433</td>\n",
              "      <td>和幸沖繩居酒屋</td>\n",
              "      <td>[No. 84號, Lane 119, Línsēn North Rd, Zhongshan...</td>\n",
              "      <td>02 2568 2736</td>\n",
              "      <td>104308534682533802238</td>\n",
              "    </tr>\n",
              "    <tr>\n",
              "      <th>8</th>\n",
              "      <td>1432</td>\n",
              "      <td>双管四神湯</td>\n",
              "      <td>[116, Taiwan, 台北市文山區景美街115號附近(景美夜市)]</td>\n",
              "      <td>None</td>\n",
              "      <td>105859185404410513653</td>\n",
              "    </tr>\n",
              "    <tr>\n",
              "      <th>9</th>\n",
              "      <td>1431</td>\n",
              "      <td>Simply Organized</td>\n",
              "      <td>[Cumming, GA]</td>\n",
              "      <td>(404) 825-2105</td>\n",
              "      <td>113884629171124269918</td>\n",
              "    </tr>\n",
              "  </tbody>\n",
              "</table>\n",
              "</div>\n",
              "      <button class=\"colab-df-convert\" onclick=\"convertToInteractive('df-0437a0a6-0661-4414-8669-f4c40e10b62e')\"\n",
              "              title=\"Convert this dataframe to an interactive table.\"\n",
              "              style=\"display:none;\">\n",
              "        \n",
              "  <svg xmlns=\"http://www.w3.org/2000/svg\" height=\"24px\"viewBox=\"0 0 24 24\"\n",
              "       width=\"24px\">\n",
              "    <path d=\"M0 0h24v24H0V0z\" fill=\"none\"/>\n",
              "    <path d=\"M18.56 5.44l.94 2.06.94-2.06 2.06-.94-2.06-.94-.94-2.06-.94 2.06-2.06.94zm-11 1L8.5 8.5l.94-2.06 2.06-.94-2.06-.94L8.5 2.5l-.94 2.06-2.06.94zm10 10l.94 2.06.94-2.06 2.06-.94-2.06-.94-.94-2.06-.94 2.06-2.06.94z\"/><path d=\"M17.41 7.96l-1.37-1.37c-.4-.4-.92-.59-1.43-.59-.52 0-1.04.2-1.43.59L10.3 9.45l-7.72 7.72c-.78.78-.78 2.05 0 2.83L4 21.41c.39.39.9.59 1.41.59.51 0 1.02-.2 1.41-.59l7.78-7.78 2.81-2.81c.8-.78.8-2.07 0-2.86zM5.41 20L4 18.59l7.72-7.72 1.47 1.35L5.41 20z\"/>\n",
              "  </svg>\n",
              "      </button>\n",
              "      \n",
              "  <style>\n",
              "    .colab-df-container {\n",
              "      display:flex;\n",
              "      flex-wrap:wrap;\n",
              "      gap: 12px;\n",
              "    }\n",
              "\n",
              "    .colab-df-convert {\n",
              "      background-color: #E8F0FE;\n",
              "      border: none;\n",
              "      border-radius: 50%;\n",
              "      cursor: pointer;\n",
              "      display: none;\n",
              "      fill: #1967D2;\n",
              "      height: 32px;\n",
              "      padding: 0 0 0 0;\n",
              "      width: 32px;\n",
              "    }\n",
              "\n",
              "    .colab-df-convert:hover {\n",
              "      background-color: #E2EBFA;\n",
              "      box-shadow: 0px 1px 2px rgba(60, 64, 67, 0.3), 0px 1px 3px 1px rgba(60, 64, 67, 0.15);\n",
              "      fill: #174EA6;\n",
              "    }\n",
              "\n",
              "    [theme=dark] .colab-df-convert {\n",
              "      background-color: #3B4455;\n",
              "      fill: #D2E3FC;\n",
              "    }\n",
              "\n",
              "    [theme=dark] .colab-df-convert:hover {\n",
              "      background-color: #434B5C;\n",
              "      box-shadow: 0px 1px 3px 1px rgba(0, 0, 0, 0.15);\n",
              "      filter: drop-shadow(0px 1px 2px rgba(0, 0, 0, 0.3));\n",
              "      fill: #FFFFFF;\n",
              "    }\n",
              "  </style>\n",
              "\n",
              "      <script>\n",
              "        const buttonEl =\n",
              "          document.querySelector('#df-0437a0a6-0661-4414-8669-f4c40e10b62e button.colab-df-convert');\n",
              "        buttonEl.style.display =\n",
              "          google.colab.kernel.accessAllowed ? 'block' : 'none';\n",
              "\n",
              "        async function convertToInteractive(key) {\n",
              "          const element = document.querySelector('#df-0437a0a6-0661-4414-8669-f4c40e10b62e');\n",
              "          const dataTable =\n",
              "            await google.colab.kernel.invokeFunction('convertToInteractive',\n",
              "                                                     [key], {});\n",
              "          if (!dataTable) return;\n",
              "\n",
              "          const docLinkHtml = 'Like what you see? Visit the ' +\n",
              "            '<a target=\"_blank\" href=https://colab.research.google.com/notebooks/data_table.ipynb>data table notebook</a>'\n",
              "            + ' to learn more about interactive tables.';\n",
              "          element.innerHTML = '';\n",
              "          dataTable['output_type'] = 'display_data';\n",
              "          await google.colab.output.renderOutput(dataTable, element);\n",
              "          const docLink = document.createElement('div');\n",
              "          docLink.innerHTML = docLinkHtml;\n",
              "          element.appendChild(docLink);\n",
              "        }\n",
              "      </script>\n",
              "    </div>\n",
              "  </div>\n",
              "  "
            ]
          },
          "metadata": {},
          "execution_count": 28
        }
      ]
    },
    {
      "cell_type": "markdown",
      "source": [
        "# Contributions/Novelty/Insights"
      ],
      "metadata": {
        "id": "aPUFBa8SzNBH"
      }
    },
    {
      "cell_type": "markdown",
      "source": [
        "**Contribution**\n",
        "\n"
      ],
      "metadata": {
        "id": "Sx05vFZD1jRj"
      }
    },
    {
      "cell_type": "markdown",
      "source": [
        "**NOVELTY**\n",
        "\n",
        "In this code, we are building a recommender system to recommend top n places to a user based on their past ratings. We begin by mounting Google Drive to access the data files, which include reviews, users, and places. We then read and store the data in variables and convert it from JSON format to pandas dataframes.\n",
        "\n",
        "Next, we clean the review text data by removing numbers, punctuation, whitespace, and stop words. We then plot a histogram of the ratings distribution using matplotlib. We merge and clean the dataframes, selecting only relevant columns.\n",
        "\n",
        "We install scikit-surprise to build and analyze the recommender system. We define the rating scale, load the merged dataframe into a surprise dataset, and split the dataset into training and testing sets. We then train a collaborative filtering model using KNN and create a function to get the top n recommendations for a user.\n",
        "\n",
        "Finally, we test the recommendation system for a user with ID '100000021336848867366' and print the top 10 recommended places for that user."
      ],
      "metadata": {
        "id": "ZKpm1PPgz0FM"
      }
    },
    {
      "cell_type": "markdown",
      "source": [
        "**INSIGHTS**\n",
        "\n",
        "The code uses Google Drive to access and read data files for building a recommendation system. The data is stored in pandas dataframes for further processing.\n",
        "\n",
        "The code preprocesses the review text data by converting it to lowercase, removing numbers, punctuation, stopwords, and whitespace. This step is essential for improving the performance of the recommendation system.\n",
        "\n",
        "The code plots a histogram of the ratings distribution to gain insight into the data. This helps in understanding the frequency distribution of the ratings and their range.\n",
        "\n",
        "The code merges and cleans the data by selecting relevant columns and removing any duplicates or missing values.\n",
        "\n",
        "The code uses the scikit-surprise library to build a collaborative filtering model using KNN to train on the data. The model is used to predict ratings for all places for the user and then recommend top n places with the highest predicted ratings.\n",
        "\n",
        "Finally, the code tests the recommendation system for a specific user and displays the top recommended places for that user.\n",
        "\n",
        "Overall, the code demonstrates the steps involved in building and testing a recommendation system for recommending places based on past ratings.\n",
        "\n",
        "\n",
        "\n",
        "\n"
      ],
      "metadata": {
        "id": "qLcBJUDCz66j"
      }
    }
  ]
}